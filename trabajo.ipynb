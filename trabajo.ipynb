{
 "metadata": {
  "language_info": {
   "codemirror_mode": {
    "name": "ipython",
    "version": 3
   },
   "file_extension": ".py",
   "mimetype": "text/x-python",
   "name": "python",
   "nbconvert_exporter": "python",
   "pygments_lexer": "ipython3",
   "version": 3
  },
  "orig_nbformat": 2
 },
 "nbformat": 4,
 "nbformat_minor": 2,
 "cells": [
  {
   "cell_type": "code",
   "execution_count": null,
   "metadata": {},
   "outputs": [],
   "source": [
    "#Preprocesamiento\n",
    "import string\n",
    "f = open(\"dataset.txt\", \"r\")\n",
    "o = open(\"processed.txt\",\"w\")\n",
    "printable = set(string.printable)\n",
    "to_delete = ['<','/','|','(','+','%',':','{','}']\n",
    "bracketsOpen = False\n",
    "for line in f:\n",
    "    line = line.replace(\" - \",\"-\")\n",
    "    for word in line.split():\n",
    "        word = ''.join(filter(lambda x: x in printable, word))\n",
    "        word = word.replace('=', ' ')\n",
    "        word = word.replace('>', ' ')\n",
    "        word= word.replace(')',' ')\n",
    "        for letter in to_delete:\n",
    "            word = word.replace(letter,'')\n",
    "        o.write(word + \" \")\n",
    "f.close()\n",
    "o.close()"
   ]
  }
 ]
}